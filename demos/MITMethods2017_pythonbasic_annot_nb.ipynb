{
 "cells": [
  {
   "cell_type": "markdown",
   "metadata": {},
   "source": [
    "# Python Fundamentals"
   ]
  },
  {
   "cell_type": "markdown",
   "metadata": {
    "collapsed": true
   },
   "source": [
    "## Basic types\n",
    "\n",
    "First we're going to go over the most fundamental building blocks of Python which are the basic unit data types. <br>\n",
    "\n",
    "As you would expect, Python has a data type for integers (`int`), strings (`str`), booleans (`bool`), and for floating point numbers/decimals (`float`). If you're familiar with R, these types pretty much directly translate with minor syntactical differences."
   ]
  },
  {
   "cell_type": "code",
   "execution_count": 2,
   "metadata": {
    "collapsed": false
   },
   "outputs": [],
   "source": [
    "## You can write comments with a single `#`\n",
    "## just like in R\n",
    "\n",
    "a = 1\n",
    "b = \"Hello world\"\n",
    "c = 42.0\n",
    "d = \"\"\"\n",
    "    This is a multiline string.\n",
    "    \"\"\"\n",
    "e = True"
   ]
  },
  {
   "cell_type": "code",
   "execution_count": null,
   "metadata": {
    "collapsed": false
   },
   "outputs": [],
   "source": [
    "## The print command is simply `print`.\n",
    "\n",
    "print a\n",
    "print b\n",
    "print c\n",
    "print e"
   ]
  },
  {
   "cell_type": "code",
   "execution_count": null,
   "metadata": {
    "collapsed": false
   },
   "outputs": [],
   "source": [
    "## R's `typeof` translates to `type`.\n",
    "\n",
    "print type(a)\n",
    "print type(b)\n",
    "print type(c)"
   ]
  },
  {
   "cell_type": "code",
   "execution_count": null,
   "metadata": {
    "collapsed": false
   },
   "outputs": [],
   "source": [
    "## Concatenating basic units together is as simple \n",
    "## as using a + operator.\n",
    "\n",
    "print str(a) + \"). \" + b + \"...\""
   ]
  },
  {
   "cell_type": "markdown",
   "metadata": {},
   "source": [
    "## String Parsing\n",
    "\n",
    "Python has a wide variety of powerful string parsing tools. Some examples are given below:"
   ]
  },
  {
   "cell_type": "code",
   "execution_count": null,
   "metadata": {
    "collapsed": false
   },
   "outputs": [],
   "source": [
    "## Concatenate strings by joining \n",
    "b2 = \",\".join([b, b])\n",
    "print b2\n",
    "\n",
    "## Strip whitespace or other characters from \n",
    "## strings from both head and tail\n",
    "\n",
    "s1 = \"        Good bye\"\n",
    "s1 = s1.strip()\n",
    "print s1\n",
    "\n",
    "s2 = \"Hello        \"\n",
    "s2 = s2.strip()\n",
    "print s2\n",
    "\n",
    "## Format strings for printing\n",
    "## (Very useful for debugging)\n",
    "\n",
    "print \"You say '%s' and I say '%s'\" % (s1, s2)\n"
   ]
  },
  {
   "cell_type": "markdown",
   "metadata": {},
   "source": [
    "## Data structures\n",
    "\n",
    "Now, we're going to move onto data types that can collect and organize multiple variables of other data types (data structures). \n",
    "\n",
    "In Python, these are **lists**, **tuples** (immutable versions of lists), and **dictionaries**."
   ]
  },
  {
   "cell_type": "code",
   "execution_count": null,
   "metadata": {
    "collapsed": false
   },
   "outputs": [],
   "source": [
    "aa = [a, b, c] # mutable\n",
    "bb = (c, b, a) # immutable\n",
    "\n",
    "cc = {\n",
    "            \"Bob\"   : 0,\n",
    "            \"Alice\" : 1,\n",
    "            \"Jim\"   : 2\n",
    "     }\n"
   ]
  },
  {
   "cell_type": "code",
   "execution_count": null,
   "metadata": {
    "collapsed": true
   },
   "outputs": [],
   "source": [
    "print aa\n",
    "print bb\n",
    "print cc\n",
    "\n",
    "aa[0] = \"Hello darkness my old friend\"     # works\n",
    "bb[0] = \"I've come to talk with you again\" # doesn't work"
   ]
  },
  {
   "cell_type": "code",
   "execution_count": null,
   "metadata": {
    "collapsed": false
   },
   "outputs": [],
   "source": [
    "## Data structures can be accessed in a number of \n",
    "## different ways (indexing and slicing)\n",
    "\n",
    "print aa[0]       # index [i]\n",
    "print bb[1:3]     # slice [start:end]\n",
    "print cc[\"Bob\"]   # index [key]"
   ]
  },
  {
   "cell_type": "code",
   "execution_count": null,
   "metadata": {
    "collapsed": true
   },
   "outputs": [],
   "source": [
    "## Basic list operations\n",
    "len(aa)                                 # length\n",
    "print aa + [\"another string\", 40, 98]   # concatenation\n",
    "print aa * 4                            # repetition\n",
    "print 1 in [1,2,3]                      # membership\n",
    "\n",
    "## Basic list functions\n",
    "print max([0,1,2,3,4,5])\n",
    "print min([0,1,2,3,4,5])\n",
    "print len([0,1,2,3,4,5])\n",
    "print aa.count(1)\n",
    "print aa.reverse()"
   ]
  },
  {
   "cell_type": "code",
   "execution_count": null,
   "metadata": {
    "collapsed": true
   },
   "outputs": [],
   "source": [
    "## Basic dictionary keys/values\n",
    "print cc.keys()\n",
    "print cc.values()\n",
    "print cc.iteritems()"
   ]
  },
  {
   "cell_type": "code",
   "execution_count": null,
   "metadata": {
    "collapsed": false
   },
   "outputs": [],
   "source": [
    "## Data structures can be updated and deleted\n",
    "aa.append(1)\n",
    "aa.insert(2, \"hey\")\n",
    "print aa\n",
    "print aa.pop()"
   ]
  },
  {
   "cell_type": "markdown",
   "metadata": {},
   "source": [
    "For more details, refer to the Python 2.7 docs:\n",
    "\n",
    "https://docs.python.org/2.7/library/stdtypes.html\n",
    "\n"
   ]
  },
  {
   "cell_type": "markdown",
   "metadata": {},
   "source": [
    "## Control Flows\n",
    "\n",
    "Control flow is very straight forward in Python, but can also be powerfully augmented using *functional* programming.\n",
    "\n",
    "Note that in Python, **indentation does matter**. Be careful of this when creating complex control flows (nested loops, etc.).\n",
    "\n",
    "\n",
    "Types of control flows:\n",
    "* for / while loops\n",
    "* functions"
   ]
  },
  {
   "cell_type": "code",
   "execution_count": 6,
   "metadata": {
    "collapsed": false
   },
   "outputs": [
    {
     "name": "stdout",
     "output_type": "stream",
     "text": [
      "1\n",
      "Hello world\n",
      "42.0\n"
     ]
    }
   ],
   "source": [
    "## For loops\n",
    "for obj in [a, b, c]:\n",
    "    print obj"
   ]
  },
  {
   "cell_type": "code",
   "execution_count": 7,
   "metadata": {
    "collapsed": false
   },
   "outputs": [
    {
     "name": "stdout",
     "output_type": "stream",
     "text": [
      "0.) 1\n",
      "1.) Hello world\n",
      "2.) 42.0\n"
     ]
    }
   ],
   "source": [
    "## For loops with enumeration\n",
    "for i, obj in enumerate([a, b, c]):\n",
    "    print \"%i.) %s\" % (i, obj)"
   ]
  },
  {
   "cell_type": "code",
   "execution_count": 8,
   "metadata": {
    "collapsed": false
   },
   "outputs": [
    {
     "name": "stdout",
     "output_type": "stream",
     "text": [
      "0.) 1\n",
      "2.) 42.0\n"
     ]
    }
   ],
   "source": [
    "## For loops with conditional skips\n",
    "for i, obj in enumerate([a, b, c]):\n",
    "    if i == 1:\n",
    "        continue\n",
    "    else:\n",
    "        print \"%i.) %s\" % (i, obj)"
   ]
  },
  {
   "cell_type": "code",
   "execution_count": 10,
   "metadata": {
    "collapsed": false
   },
   "outputs": [
    {
     "name": "stdout",
     "output_type": "stream",
     "text": [
      "0.) 1\n",
      "1.) Hello world\n"
     ]
    }
   ],
   "source": [
    "## For loops with conditional stop\n",
    "for i, obj in enumerate([a, b, c]):\n",
    "    if i == 2:\n",
    "        break\n",
    "    else:\n",
    "        print \"%i.) %s\" % (i, obj)"
   ]
  },
  {
   "cell_type": "code",
   "execution_count": 11,
   "metadata": {
    "collapsed": false
   },
   "outputs": [
    {
     "name": "stdout",
     "output_type": "stream",
     "text": [
      "0\n",
      "1\n",
      "2\n",
      "3\n",
      "4\n",
      "5\n",
      "6\n",
      "7\n",
      "8\n",
      "9\n"
     ]
    }
   ],
   "source": [
    "## While loops (same control flow rules)\n",
    "\n",
    "i = 0\n",
    "while i < 10:\n",
    "    print i\n",
    "    i += 1\n",
    "    \n",
    "    "
   ]
  },
  {
   "cell_type": "code",
   "execution_count": 13,
   "metadata": {
    "collapsed": true
   },
   "outputs": [],
   "source": [
    "## Function declaration syntax\n",
    "\n",
    "def f(x):\n",
    "    return x\n",
    "\n",
    "def g(x, y):\n",
    "    return x * y\n",
    "\n",
    "def h(x, y, z):\n",
    "    # note: x**2 ==> x^2\n",
    "    return (x**y)/z\n",
    "\n",
    "def j(x):\n",
    "    pass"
   ]
  },
  {
   "cell_type": "markdown",
   "metadata": {},
   "source": [
    "## Functional Programming\n",
    "\n",
    "The real power of Python comes in the ability to execute quick, \"on the fly\" functional commands (i.e. focusing on functional expressions, not objects).\n",
    "\n",
    "Some features in Python that are highly functional in nature:\n",
    "\n",
    "* lambda functions\n",
    "* map, reduce, filter "
   ]
  },
  {
   "cell_type": "code",
   "execution_count": 14,
   "metadata": {
    "collapsed": false
   },
   "outputs": [
    {
     "name": "stdout",
     "output_type": "stream",
     "text": [
      "4\n",
      "2\n"
     ]
    }
   ],
   "source": [
    "## Lambda functions\n",
    "f = lambda x: x * 2\n",
    "g = lambda x,y: x - y\n",
    "\n",
    "print f(2)\n",
    "print g(10,8)"
   ]
  },
  {
   "cell_type": "code",
   "execution_count": 15,
   "metadata": {
    "collapsed": false
   },
   "outputs": [
    {
     "data": {
      "text/plain": [
       "[2, 4, 6]"
      ]
     },
     "execution_count": 15,
     "metadata": {},
     "output_type": "execute_result"
    }
   ],
   "source": [
    "## Map, reduce, filter\n",
    "map(f, [1,2,3])"
   ]
  },
  {
   "cell_type": "code",
   "execution_count": 16,
   "metadata": {
    "collapsed": false
   },
   "outputs": [
    {
     "data": {
      "text/plain": [
       "-5"
      ]
     },
     "execution_count": 16,
     "metadata": {},
     "output_type": "execute_result"
    }
   ],
   "source": [
    "reduce(g, [1,2,3], 1)"
   ]
  },
  {
   "cell_type": "code",
   "execution_count": 18,
   "metadata": {
    "collapsed": false
   },
   "outputs": [
    {
     "data": {
      "text/plain": [
       "['snake', 'viper']"
      ]
     },
     "execution_count": 18,
     "metadata": {},
     "output_type": "execute_result"
    }
   ],
   "source": [
    "filter(lambda x: \"e\" in x, [\"snake\", \"cobra\", \"viper\"] )"
   ]
  },
  {
   "cell_type": "markdown",
   "metadata": {
    "collapsed": true
   },
   "source": [
    "## Misc\n",
    "\n",
    "Now that we have the basic units down, we introduce some more intermediate concepts that are crucial for both *efficient* and *bug-free* programming.\n",
    "\n",
    "These are:\n",
    "\n",
    "* Exception handling\n",
    "* List comprehensions\n",
    "\n"
   ]
  },
  {
   "cell_type": "markdown",
   "metadata": {},
   "source": [
    "What is an **exception**? Let's find out:"
   ]
  },
  {
   "cell_type": "code",
   "execution_count": 19,
   "metadata": {
    "collapsed": false
   },
   "outputs": [
    {
     "ename": "IndexError",
     "evalue": "list index out of range",
     "output_type": "error",
     "traceback": [
      "\u001b[0;31m---------------------------------------------------------------------------\u001b[0m",
      "\u001b[0;31mIndexError\u001b[0m                                Traceback (most recent call last)",
      "\u001b[0;32m<ipython-input-19-dadeedb6e94a>\u001b[0m in \u001b[0;36m<module>\u001b[0;34m()\u001b[0m\n\u001b[0;32m----> 1\u001b[0;31m \u001b[0;32mprint\u001b[0m \u001b[0;34m[\u001b[0m\u001b[0;34m\"a\"\u001b[0m\u001b[0;34m,\u001b[0m \u001b[0;34m\"b\"\u001b[0m\u001b[0;34m,\u001b[0m \u001b[0;34m\"c\"\u001b[0m\u001b[0;34m]\u001b[0m\u001b[0;34m[\u001b[0m\u001b[0;36m4\u001b[0m\u001b[0;34m]\u001b[0m\u001b[0;34m\u001b[0m\u001b[0m\n\u001b[0m",
      "\u001b[0;31mIndexError\u001b[0m: list index out of range"
     ]
    }
   ],
   "source": [
    "print [\"a\", \"b\", \"c\"][4]"
   ]
  },
  {
   "cell_type": "markdown",
   "metadata": {},
   "source": [
    "From the docs:\n",
    "    \n",
    "An **exception** is an event, which occurs during the execution of a program that disrupts the normal flow of the program's instructions. In general, when a Python script encounters a situation that it cannot cope with, it raises an exception. An exception is a Python object that represents an **error**.\n",
    "\n",
    "So how do we handle exceptions?\n",
    "\n",
    "... We do exactly that - handle them, but in specified ways:"
   ]
  },
  {
   "cell_type": "code",
   "execution_count": 20,
   "metadata": {
    "collapsed": false
   },
   "outputs": [
    {
     "name": "stdout",
     "output_type": "stream",
     "text": [
      "Oops! Won't do it again...\n"
     ]
    }
   ],
   "source": [
    "try:\n",
    "    # You generally 'try' something\n",
    "    # that might be at risk of exception\n",
    "    print [\"a\", \"b\", \"c\"][4]\n",
    "except:\n",
    "    # You handle your exception here\n",
    "    print \"Oops! Won't do it again...\""
   ]
  },
  {
   "cell_type": "markdown",
   "metadata": {},
   "source": [
    "In reality, you typically want to do in the `except` clause that will carry the program onwards and not cause it to exit / crash."
   ]
  },
  {
   "cell_type": "code",
   "execution_count": 23,
   "metadata": {
    "collapsed": false
   },
   "outputs": [
    {
     "name": "stdout",
     "output_type": "stream",
     "text": [
      "Oops .. trying i=4\n",
      "Oops .. trying i=3\n",
      "Oops .. trying i=2\n",
      "c\n",
      "OK!\n"
     ]
    }
   ],
   "source": [
    "success = False\n",
    "i = 5\n",
    "while not success:\n",
    "    try:\n",
    "        print [\"a\", \"b\", \"c\"][i]\n",
    "        success = True\n",
    "    except:\n",
    "        i -= 1\n",
    "        print \"Oops .. trying i=%i\" % i\n",
    "print \"OK!\""
   ]
  },
  {
   "cell_type": "markdown",
   "metadata": {},
   "source": [
    "And what are **list comprehensions**?\n",
    "\n",
    "Recall mathematical notation that typically describe collections of things:\n",
    "\n",
    "```\n",
    "    S = {x² : x in {0 ... 9}}\n",
    "    V = (1, 2, 4, 8, ..., 2¹²)\n",
    "    M = {x | x in S and x even}\n",
    "```\n",
    "\n",
    "In Python, you can *create lists using this notation* - using list comprehensions:"
   ]
  },
  {
   "cell_type": "code",
   "execution_count": 24,
   "metadata": {
    "collapsed": true
   },
   "outputs": [],
   "source": [
    "S = [x**2 for x in range(0,9)]\n",
    "V = [2**i for i in range(13)]\n",
    "M = [x for x in S if x % 2 == 0]"
   ]
  },
  {
   "cell_type": "markdown",
   "metadata": {},
   "source": [
    "List comprehensions allow you to very easily create powerful mappings from the basic data structures you have to the sets you want. "
   ]
  },
  {
   "cell_type": "code",
   "execution_count": 27,
   "metadata": {
    "collapsed": false
   },
   "outputs": [
    {
     "name": "stdout",
     "output_type": "stream",
     "text": [
      "['THE', 'the', 3]\n",
      "['QUICK', 'quick', 5]\n",
      "['BROWN', 'brown', 5]\n",
      "['FOX', 'fox', 3]\n",
      "['JUMPS', 'jumps', 5]\n",
      "['OVER', 'over', 4]\n",
      "['THE', 'the', 3]\n",
      "['LAZY', 'lazy', 4]\n",
      "['DOG', 'dog', 3]\n"
     ]
    }
   ],
   "source": [
    "words = ['The', 'quick', 'brown', 'fox', 'jumps', 'over', 'the', 'lazy', 'dog']\n",
    "mapping = [[w.upper(), w.lower(), len(w)] for w in words]\n",
    "\n",
    "for word in mapping:\n",
    "    print word"
   ]
  },
  {
   "cell_type": "markdown",
   "metadata": {},
   "source": [
    "That wraps up the basics of Python! We conclude by explaining two utilites that allow for easy IO (input/output) operations."
   ]
  },
  {
   "cell_type": "markdown",
   "metadata": {},
   "source": [
    "## Reading and writing\n",
    "\n",
    "It is important to know how to read and write to files using Python. However, for most data analysis and collection tasks, the **Pandas** library can do most of the heavy lifting for you. "
   ]
  },
  {
   "cell_type": "code",
   "execution_count": 30,
   "metadata": {
    "collapsed": false
   },
   "outputs": [
    {
     "name": "stdout",
     "output_type": "stream",
     "text": [
      "OK write.\n",
      " hello darkness my old friend\n",
      "OK read.\n"
     ]
    }
   ],
   "source": [
    "## Basic file writing and reading in Python\n",
    "\n",
    "with open(\"/tmp/1.txt\", \"w\") as f:\n",
    "    f.write(\" Hello darkness my old friend\")\n",
    "    print \"OK write.\"\n",
    "\n",
    "with open(\"/tmp/1.txt\", \"r\") as f:\n",
    "    print f.read()\n",
    "    print \"OK read.\""
   ]
  },
  {
   "cell_type": "code",
   "execution_count": 34,
   "metadata": {
    "collapsed": false
   },
   "outputs": [
    {
     "name": "stdout",
     "output_type": "stream",
     "text": [
      "   name  age  score\n",
      "0   Tim   10     90\n",
      "1  Matt   20     83\n",
      "2  Jill   12     92\n"
     ]
    }
   ],
   "source": [
    "## Basic data writing and reading using Pandas\n",
    "\n",
    "import pandas\n",
    "\n",
    "raw_data = {\n",
    "    \"name\" : [\"Tim\", \"Matt\", \"Jill\"],\n",
    "    \"age\"  : [10, 20, 12],\n",
    "    \"score\" : [90, 83, 92]\n",
    "}\n",
    "\n",
    "df = pandas.DataFrame(raw_data, columns=[\"name\", \"age\", \"score\"])\n",
    "\n",
    "df.to_csv(\"/tmp/pd_test.csv\")\n",
    "\n",
    "print df\n",
    "\n"
   ]
  },
  {
   "cell_type": "markdown",
   "metadata": {},
   "source": [
    "Pandas is an extremely powerful data analyis tool that combines R's 'data frame' style of data manipulation with SQL functionality and built-in data visualization + statistics.\n",
    "\n",
    "Learn more about Pandas:\n",
    "\n",
    "http://pandas.pydata.org/pandas-docs/stable/"
   ]
  },
  {
   "cell_type": "markdown",
   "metadata": {},
   "source": [
    "## Other libraries\n",
    "\n",
    "A list of other essential Python libraries for advanced Python users:\n",
    "\n",
    "* `sys`/`os` - Perform functionalities that your system / OS provides (e.g. execute bash scripts, navigate filesystem).\n",
    "* `csv` - Read/write + interface with csv files on a low level.\n",
    "* `urllib2` - Perform HTTP requests.\n",
    "* `math` - Basic mathematical operations and expressions (e.g. pi, e, inf)\n",
    "* `random` - Useful for random sampling and shuffling.\n",
    "* `datetime` - Parsing and creating dates.\n",
    "* `sqlite3` - Work with SQLLite databases.\n",
    "* `joblib` - Execute parallel functions.\n"
   ]
  }
 ],
 "metadata": {
  "kernelspec": {
   "display_name": "Python 2",
   "language": "python",
   "name": "python2"
  },
  "language_info": {
   "codemirror_mode": {
    "name": "ipython",
    "version": 2
   },
   "file_extension": ".py",
   "mimetype": "text/x-python",
   "name": "python",
   "nbconvert_exporter": "python",
   "pygments_lexer": "ipython2",
   "version": "2.7.13"
  }
 },
 "nbformat": 4,
 "nbformat_minor": 1
}
